{
 "cells": [
  {
   "cell_type": "markdown",
   "metadata": {},
   "source": [
    "# BUCKET AND WATER FLOW\n",
    "\n",
    "Alice has a bucket of water initially having W litres of water in it. The maximum capacity of the bucket is X liters.\n",
    "\n",
    "Alice turned on the tap and the water starts flowing into the bucket at a rate of Y litres/hour. She left the tap running for exactly Z hours. Determine whether the bucket has been overflown, filled exactly, or is still left unfilled.\n",
    "\n",
    "### Input Format\n",
    "- The first line of input will contain a single integer T, denoting the number of test cases. The description of the test cases follows.\n",
    "- Each test case consists of a single line of input containing four space-separated integers W, X, Y, Z.\n",
    "\n",
    "### Output Format\n",
    "For each test case, print the answer on a new line:\n",
    "\n",
    "- If the bucket has overflown print overflow\n",
    "- If it is exactly filled print filled\n",
    "- If it is still unfilled, print unfilled\n",
    "\n",
    "You may print each character of the string in uppercase or lowercase (for example, the strings filled, FIlled, fiLLed, and FILLED will all be treated as identical).\n",
    "\n",
    "### Constraints\n",
    "1 ≤ T ≤ 1000\n",
    "1 ≤ W, X, Y,Z ≤ 1000\n",
    "### Subtasks\n",
    "#### Subtask 1 (100 points):\n",
    "Original constraints.\n",
    "### Sample Input 1 \n",
    "3\n",
    "\n",
    "1 2 3 4 \n",
    "\n",
    "10 70 10 6 \n",
    "\n",
    "2 100 4 3 \n",
    "\n",
    "### Sample Output 1 \n",
    "overFlow\n",
    "\n",
    "filled\n",
    "\n",
    "Unfilled\n",
    "### Explanation\n",
    "Test case 1: Initially the bucket had 1 litre of water, we then added 3 litres of water for 4 hours. Thus, the total bucket inflow was 1+3×4=13 litres. Since this is greater than the capacity of 2 litres, the bucket will OVERFLOW\n",
    "\n",
    "Test case 2: Initially the bucket had 10 litres of water, we then added 10 litres of water for 6 hours. Thus, the total bucket inflow was 10+10×6=70 litres. Since this is equal to the capacity of 70 litres, the bucket will be FILLED\n",
    "\n",
    "Test case 3: Initially the bucket had 2 litres of water, we then added 4 litres of water for 3 hours. Thus, the total bucket inflow was 2+4×3=14 litres. Since this is lesser than the capacity of 100 litres, the bucket will be UNFILLED."
   ]
  },
  {
   "cell_type": "code",
   "execution_count": 1,
   "metadata": {},
   "outputs": [
    {
     "name": "stdout",
     "output_type": "stream",
     "text": [
      "3\n",
      "1 2 3 4\n",
      "overflow\n",
      "10 70 10 6\n",
      "filled\n",
      "2 100 4 3\n",
      "unfilled\n"
     ]
    }
   ],
   "source": [
    "# Store the number of test cases\n",
    "T = int(input())\n",
    "\n",
    "# For each test case\n",
    "for t in range(T):\n",
    "    W, X, Y, Z = map(int, input().split(' '))\n",
    "    \n",
    "    if (X - W) < (Y * Z):\n",
    "        print('overflow')\n",
    "\n",
    "    elif (X - W) > (Y * Z):\n",
    "        print('unfilled')\n",
    "    \n",
    "    else:\n",
    "        print('filled')"
   ]
  },
  {
   "cell_type": "markdown",
   "metadata": {},
   "source": [
    "### Complexity Analysis\n",
    "\n",
    "Time Complexity: O(1)\n",
    "\n",
    "Space Complexity: O(1)"
   ]
  }
 ],
 "metadata": {
  "kernelspec": {
   "display_name": "Python 3",
   "language": "python",
   "name": "python3"
  },
  "language_info": {
   "codemirror_mode": {
    "name": "ipython",
    "version": 3
   },
   "file_extension": ".py",
   "mimetype": "text/x-python",
   "name": "python",
   "nbconvert_exporter": "python",
   "pygments_lexer": "ipython3",
   "version": "3.8.3"
  }
 },
 "nbformat": 4,
 "nbformat_minor": 4
}
