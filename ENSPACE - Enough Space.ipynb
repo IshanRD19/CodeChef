{
 "cells": [
  {
   "cell_type": "markdown",
   "metadata": {},
   "source": [
    "# ENOUGH SPACE\n",
    "\n",
    "### Problem\n",
    "Chef's computer has NN GB of free space. He wants to save X files, each of size 1 GB and Y files, each of size 2 GB on # his computer. Will he be able to do so?\n",
    "\n",
    "Chef can save all the files on his computer only if the total size of the files is less than or equal to the space available on his computer.\n",
    "\n",
    "### Input Format\n",
    "- The first line contains an integer T, denoting the number of test cases. The T test cases then follow:\n",
    "- The first and only line of each test case contains three integers N, X, and Y denoting the free-space in computer, the number of 1 and 2 GB files respectively.\n",
    "\n",
    "### Output Format\n",
    "For each test case, print YES if Chef is able to save the files and NO otherwise.\n",
    "\n",
    "You may print each character of the string in uppercase or lowercase (for example, the strings yEs, yes, Yes and YES will all be treated as identical).\n",
    "\n",
    "### Constraints\n",
    "1 ≤ T ≤ 100\n",
    "\n",
    "1 ≤ N, X, Y ≤ 100\n",
    "\n",
    "### Sample 1:\n",
    "#### Input\n",
    "4\n",
    "\n",
    "6 3 1\n",
    "\n",
    "2 2 2\n",
    "\n",
    "4 3 2\n",
    "\n",
    "5 1 2\n",
    "#### Output\n",
    "YES\n",
    "\n",
    "NO\n",
    "\n",
    "NO\n",
    "\n",
    "YES\n",
    "#### Explanation:\n",
    "Test case 11: The total size of files is 3 + 1 \\cdot 2 =53+1⋅2=5, which is smaller than the remaining space on the computer. Thus Chef will be able to save all the files.\n",
    "\n",
    "Test case 22: The total size of files is 2 + 2 \\cdot 2 =62+2⋅2=6, which is greater than the remaining space on the computer. Thus Chef will not be able to save all the files.\n",
    "\n",
    "Test case 33: The total size of files is 3 + 2 \\cdot 2 =73+2⋅2=7, which is greater than the remaining space on the computer. Thus Chef will not be able to save all the files.\n",
    "\n",
    "Test case 44: The total size of files is 1 + 2 \\cdot 2 =51+2⋅2=5, which is equal to the remaining space on the computer. Thus Chef will be able to save all the files."
   ]
  },
  {
   "cell_type": "code",
   "execution_count": 1,
   "metadata": {},
   "outputs": [
    {
     "name": "stdout",
     "output_type": "stream",
     "text": [
      "4\n",
      "6 3 1\n",
      "YES\n",
      "2 2 2\n",
      "NO\n",
      "4 3 2\n",
      "NO\n",
      "5 1 2\n",
      "YES\n"
     ]
    }
   ],
   "source": [
    "testcases = int(input())\n",
    "for i in range(testcases):\n",
    "    n, x, y = [int(i) for i in input().split()]\n",
    "    \n",
    "    if (x + 2 * y) <= n:\n",
    "        print('YES')\n",
    "    else:\n",
    "        print('NO')"
   ]
  }
 ],
 "metadata": {
  "kernelspec": {
   "display_name": "Python 3",
   "language": "python",
   "name": "python3"
  },
  "language_info": {
   "codemirror_mode": {
    "name": "ipython",
    "version": 3
   },
   "file_extension": ".py",
   "mimetype": "text/x-python",
   "name": "python",
   "nbconvert_exporter": "python",
   "pygments_lexer": "ipython3",
   "version": "3.8.3"
  }
 },
 "nbformat": 4,
 "nbformat_minor": 4
}
