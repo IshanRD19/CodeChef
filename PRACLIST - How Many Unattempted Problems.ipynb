{
 "cells": [
  {
   "cell_type": "markdown",
   "metadata": {},
   "source": [
    "# HOW MANY UNATTEMPTED PROBLEMS\n",
    "\n",
    "CodeChef recently revamped its practice page to make it easier for users to identify the next problems they should solve by introducing some new features:\n",
    "\n",
    "- Recent Contest Problems - contains only problems from the last 2 contests\n",
    "- Separate Un-Attempted, Attempted, and All tabs\n",
    "- Problem Difficulty Rating - the Recommended dropdown menu has various difficulty ranges so that you can attempt the problems most suited to your experience\n",
    "- Popular Topics and Tags\n",
    "\n",
    "Our Chef is currently practicing on CodeChef and is a beginner. The count of ‘All Problems’ in the Beginner section is X. Our Chef has already ‘Attempted’ Y problems among them. How many problems are yet ‘Un-attempted’?\n",
    "\n",
    "### Input Format\n",
    "The first and only line of input contains two space-separated integers X and Y — the count of 'All problems' in the Beginner's section and the count of Chef's 'Attempted' problems, respectively.\n",
    "\n",
    "### Output Format\n",
    "Output a single integer in a single line — the number of problems that are yet 'Un-attempted'\n",
    "\n",
    "### Constraints\n",
    "1 ≤ Y ≤ X ≤ 1000\n",
    "\n",
    "### Subtasks\n",
    "#### Subtask 1 (100 points):\n",
    "Original constraints.\n",
    "\n",
    "### Sample Input 1 \n",
    "10 4\n",
    "### Sample Output 1 \n",
    "6\n",
    "### Sample Input 2 \n",
    "10 10\n",
    "### Sample Output 2 \n",
    "0\n",
    "### Sample Input 3 \n",
    "1000 990\n",
    "### Sample Output 3 \n",
    "10\n",
    "### Sample Input 4 \n",
    "500 1\n",
    "### Sample Output 4 \n",
    "499\n",
    "### Explanation\n",
    "Test case 1: There are 10 problems in total in the Beginner's section, out of which 4 have been attempted. Hence, there are 6 Un-attempted problems.\n",
    "\n",
    "Test case 2: There are 10 problems in total in the Beginner's section, out of which all have been attempted. Hence, there are 0 Un-attempted problems.\n",
    "\n",
    "Test case 3: There are 1000 problems in total in the Beginner's section, out of which 990 have been attempted. Hence, there are 10 Un-attempted problems.\n",
    "\n",
    "Test case 4: There are 500 problems in total in the Beginner's section, out of which only 1 has been attempted. Hence, there are 499 Un-attempted problems."
   ]
  },
  {
   "cell_type": "code",
   "execution_count": 1,
   "metadata": {},
   "outputs": [
    {
     "name": "stdout",
     "output_type": "stream",
     "text": [
      "500 1\n",
      "499\n"
     ]
    }
   ],
   "source": [
    "X, Y = map(int, input().split(' '))\n",
    "print(X-Y)"
   ]
  },
  {
   "cell_type": "markdown",
   "metadata": {},
   "source": [
    "### Complexity Analysis\n",
    "\n",
    "Time Complexity: O(1)\n",
    "\n",
    "Space Complexity: O(1)"
   ]
  }
 ],
 "metadata": {
  "kernelspec": {
   "display_name": "Python 3",
   "language": "python",
   "name": "python3"
  },
  "language_info": {
   "codemirror_mode": {
    "name": "ipython",
    "version": 3
   },
   "file_extension": ".py",
   "mimetype": "text/x-python",
   "name": "python",
   "nbconvert_exporter": "python",
   "pygments_lexer": "ipython3",
   "version": "3.8.3"
  }
 },
 "nbformat": 4,
 "nbformat_minor": 4
}
