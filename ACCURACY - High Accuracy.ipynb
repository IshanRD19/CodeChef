{
 "cells": [
  {
   "cell_type": "markdown",
   "metadata": {},
   "source": [
    "# HIGH ACCURACY\n",
    "\n",
    "### Problem\n",
    "There are 100 questions in a paper. Each question carries +3 marks for correct answer, -1 marks for incorrect answer and 0 marks for unattempted question.\n",
    "\n",
    "It is given that Chef received exactly X (0≤X≤100) marks. Determine the minimum number of problems Chef marked incorrect.\n",
    "\n",
    "### Input Format\n",
    "- First line will contain T, number of test cases. Then the test cases follow.\n",
    "- Each testcase contains of a single integer X, marks that Chef received.\n",
    "\n",
    "### Output Format\n",
    "For each test case, output the minimum number of problems Chef marked incorrect.\n",
    "\n",
    "### Constraints\n",
    "1 ≤ T ≤ 100\n",
    "\n",
    "0 ≤ X ≤ 100\n",
    "### Sample 1:\n",
    "#### Input\n",
    "4\n",
    "\n",
    "0\n",
    "\n",
    "100\n",
    "\n",
    "32\n",
    "\n",
    "18\n",
    "#### Output\n",
    "0\n",
    "\n",
    "2\n",
    "\n",
    "1\n",
    "\n",
    "0\n",
    "#### Explanation:\n",
    "Test Case 11: It might be possible that Chef didn't attempt any question in which case he didn't get any question incorrect.\n",
    "\n",
    "Test Case 22: For the case when Chef got 3434 questions correct and 22 questions incorrect, Chef marked minimum incorrect questions.\n",
    "\n",
    "Test Case 33: For the case when Chef got 1111 questions correct and 11 question incorrect, Chef marked minimum incorrect questions.\n",
    "\n",
    "Test Case 44: For the case when Chef got 66 questions correct and no question incorrect, Chef marked minimum incorrect questions."
   ]
  },
  {
   "cell_type": "code",
   "execution_count": 1,
   "metadata": {},
   "outputs": [
    {
     "name": "stdout",
     "output_type": "stream",
     "text": [
      "4\n",
      "0\n",
      "0\n",
      "100\n",
      "2\n",
      "32\n",
      "1\n",
      "18\n",
      "0\n"
     ]
    }
   ],
   "source": [
    "testcases = int(input())\n",
    "for i in range(testcases):\n",
    "    X = int(input())\n",
    "    if X % 3 == 0:\n",
    "        print(0)\n",
    "    elif X % 3 == 1:\n",
    "        print(2)\n",
    "    else:\n",
    "        print(1)"
   ]
  }
 ],
 "metadata": {
  "kernelspec": {
   "display_name": "Python 3",
   "language": "python",
   "name": "python3"
  },
  "language_info": {
   "codemirror_mode": {
    "name": "ipython",
    "version": 3
   },
   "file_extension": ".py",
   "mimetype": "text/x-python",
   "name": "python",
   "nbconvert_exporter": "python",
   "pygments_lexer": "ipython3",
   "version": "3.8.3"
  }
 },
 "nbformat": 4,
 "nbformat_minor": 4
}
