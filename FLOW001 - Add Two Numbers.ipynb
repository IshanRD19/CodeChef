{
 "cells": [
  {
   "cell_type": "markdown",
   "metadata": {},
   "source": [
    "# ADD TWO NUMBERS\n",
    "\n",
    "### Problem Statement\n",
    "Shivam is the youngest programmer in the world, he is just 12 years old. Shivam is learning programming and today he is writing his first program.\n",
    "\n",
    "The task is very simple: given two integers A and B, write a program to add these two numbers and output it.\n",
    "\n",
    "### Input\n",
    "The first line contains an integer T, the total number of test cases. Then follow T lines, each line contains two Integers A and B.\n",
    "\n",
    "### Output\n",
    "For each test case, add A and B and display the sum in a new line.\n",
    "\n",
    "### Constraints\n",
    "1 ≤ T ≤ 1000\n",
    "\n",
    "0 ≤ A,B ≤ 10000\n",
    "\n",
    "### Sample Input 1\n",
    "3\n",
    "\n",
    "1 2\n",
    "\n",
    "100 200\n",
    "\n",
    "10 40\n",
    "\n",
    "### Sample Output 1\n",
    "3\n",
    "\n",
    "300\n",
    "\n",
    "50"
   ]
  },
  {
   "cell_type": "code",
   "execution_count": 3,
   "metadata": {},
   "outputs": [
    {
     "name": "stdout",
     "output_type": "stream",
     "text": [
      "3\n",
      "1 2\n",
      "3\n",
      "100 200\n",
      "300\n",
      "10 40\n",
      "50\n"
     ]
    }
   ],
   "source": [
    "#Read the number of test cases.\n",
    "T = int(input())\n",
    "\n",
    "# For each test case\n",
    "for tc in range(T):\n",
    "\n",
    "    # Read integers a and b.\n",
    "    (a, b) = map(int, input().split(' '))\n",
    "    \n",
    "    # Display the sum\n",
    "    print(a + b)"
   ]
  },
  {
   "cell_type": "markdown",
   "metadata": {},
   "source": [
    "### Complexity Analysis\n",
    "\n",
    "Time Complexity: O(1)\n",
    "\n",
    "Space Complexity: O(1)"
   ]
  }
 ],
 "metadata": {
  "kernelspec": {
   "display_name": "Python 3",
   "language": "python",
   "name": "python3"
  },
  "language_info": {
   "codemirror_mode": {
    "name": "ipython",
    "version": 3
   },
   "file_extension": ".py",
   "mimetype": "text/x-python",
   "name": "python",
   "nbconvert_exporter": "python",
   "pygments_lexer": "ipython3",
   "version": "3.8.3"
  }
 },
 "nbformat": 4,
 "nbformat_minor": 4
}
