{
 "cells": [
  {
   "cell_type": "markdown",
   "metadata": {},
   "source": [
    "# CHEF DRINKS TEA\n",
    "\n",
    "### Problem\n",
    "Chef has planned that he will drink exactly X liters of tea daily. He has an empty jar having a capacity of Y liters.\n",
    "\n",
    "Chef can visit the tea shop to refill the jar. In each refill, the jar is completely filled to the brim and Chef is charged ZZ rupees.\n",
    "\n",
    "Chef wonders what is the minimum amount of money he has to pay for drinking exactly X liters of tea daily.\n",
    "\n",
    "### Input Format\n",
    "- First line will contain T, number of test cases. Then the test cases follow.\n",
    "- Each test case contains of a single line of input, three space-separated integers X, Y, and Z denoting the amount of tea Chef has to drink daily, the capacity of his jar and the cost of refilling his jar.\n",
    "\n",
    "### Output Format\n",
    "For each test case, output in a single line, the minimum amount Chef has to pay.\n",
    "\n",
    "### Constraints\n",
    "1 ≤ T ≤ 1000\n",
    "\n",
    "1 ≤ X, Y, Z ≤ 100\n",
    "### Sample 1:\n",
    "#### Input\n",
    "4\n",
    "\n",
    "3 3 3\n",
    "\n",
    "6 3 3\n",
    "\n",
    "5 7 2\n",
    "\n",
    "9 4 5\n",
    "#### Output\n",
    "3\n",
    "\n",
    "6\n",
    "\n",
    "2\n",
    "\n",
    "15\n",
    "#### Explanation:\n",
    "Test case 11: Chef can get his jar refilled once and drink 33 liters of tea, which will cost him 33 rupees in total.\n",
    "\n",
    "Test case 22: Chef needs to refill his jar twice to get 3\\cdot 2 = 63⋅2=6 liters of tea, which will cost him 3\\cdot 2 = 63⋅2=6 rupees in total.\n",
    "\n",
    "Test case 33: Chef can refill his jar once and drink exactly 55 liters out of the 77 liters. This will cost him 22 rupees.\n",
    "\n",
    "Test case 44: Chef can refill his jar twice and drink 4\\cdot 2 = 84⋅2=8 liters of tea. He needs to have one more refill, but this time he would drink only 11 liter tea from the jar. Thus the total tea he drinks is 4+4+1 = 94+4+1=9 liters. He made 33 refills in total costing him 5\\cdot 3 = 155⋅3=15 rupees.\n",
    "\n"
   ]
  },
  {
   "cell_type": "code",
   "execution_count": 1,
   "metadata": {},
   "outputs": [
    {
     "name": "stdout",
     "output_type": "stream",
     "text": [
      "4\n",
      "3 3 3\n",
      "3\n",
      "6 3 3\n",
      "6\n",
      "5 7 2\n",
      "2\n",
      "9 4 5\n",
      "15\n"
     ]
    }
   ],
   "source": [
    "testcases = int(input())\n",
    "for i in range(testcases):\n",
    "    X, Y, Z = [int(i) for i in input().split()]\n",
    "    \n",
    "    if X % Y == 0:\n",
    "        times = X // Y\n",
    "    else:\n",
    "        times = X // Y + 1\n",
    "        \n",
    "    print(times * Z)"
   ]
  }
 ],
 "metadata": {
  "kernelspec": {
   "display_name": "Python 3",
   "language": "python",
   "name": "python3"
  },
  "language_info": {
   "codemirror_mode": {
    "name": "ipython",
    "version": 3
   },
   "file_extension": ".py",
   "mimetype": "text/x-python",
   "name": "python",
   "nbconvert_exporter": "python",
   "pygments_lexer": "ipython3",
   "version": "3.8.3"
  }
 },
 "nbformat": 4,
 "nbformat_minor": 4
}
