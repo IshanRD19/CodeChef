{
 "cells": [
  {
   "cell_type": "markdown",
   "metadata": {},
   "source": [
    "# APPLES AND ORANGES\n",
    "\n",
    "Bob has X rupees and goes to a market. The cost of apples is Rs. A per kg and the cost of oranges is Rs. B per kg.\n",
    "\n",
    "Determine whether he can buy at least 1 kg each of apples and oranges.\n",
    "\n",
    "### Input Format\n",
    "The first line of input will contain an integer X, the amount of money Bob has.\n",
    "The second line of input contains two space-separated integers A and B, the cost per kg of apples and oranges respectively.\n",
    "### Output Format\n",
    "Print a single line containing Yes if Bob can buy the fruits and No otherwise.\n",
    "\n",
    "You may print each character of the string in uppercase or lowercase (for example, the strings yes, Yes, yEs, and YES will all be treated as identical).\n",
    "\n",
    "### Constraints\n",
    "1 ≤ X, A, B ≤ 10^5\n",
    "### Subtasks\n",
    "#### Subtask 1 (100 points):\n",
    "Original constraints.\n",
    "### Sample Input 1 \n",
    "14 \n",
    "\n",
    "2 2\n",
    "### Sample Output 1 \n",
    "Yes\n",
    "### Explanation\n",
    "The cost of buying 1 kg each of apple and orange is 2+2=4. Since Bob has more than 4 rupees, the answer will be Yes.\n",
    "\n",
    "### Sample Input 2 \n",
    "1 \n",
    "\n",
    "1 1\n",
    "### Sample Output 2 \n",
    "No\n",
    "### Explanation\n",
    "Bob can only buy either 1 kg of apples or 1 kg of oranges with 1 rupee, hence the answer is No."
   ]
  },
  {
   "cell_type": "code",
   "execution_count": 1,
   "metadata": {},
   "outputs": [
    {
     "name": "stdout",
     "output_type": "stream",
     "text": [
      "1\n",
      "1 1\n",
      "No\n"
     ]
    }
   ],
   "source": [
    "X = int(input())\n",
    "A, B = map(int, input().split(' '))\n",
    "print('Yes' if X >= (A + B) else 'No')"
   ]
  },
  {
   "cell_type": "markdown",
   "metadata": {},
   "source": [
    "### Complexity Analysis\n",
    "\n",
    "Time Complexity: O(1)\n",
    "\n",
    "Space Complexity: O(1)"
   ]
  }
 ],
 "metadata": {
  "kernelspec": {
   "display_name": "Python 3",
   "language": "python",
   "name": "python3"
  },
  "language_info": {
   "codemirror_mode": {
    "name": "ipython",
    "version": 3
   },
   "file_extension": ".py",
   "mimetype": "text/x-python",
   "name": "python",
   "nbconvert_exporter": "python",
   "pygments_lexer": "ipython3",
   "version": "3.8.3"
  }
 },
 "nbformat": 4,
 "nbformat_minor": 4
}
